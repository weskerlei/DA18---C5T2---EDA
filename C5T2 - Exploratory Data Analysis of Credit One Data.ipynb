{
 "cells": [
  {
   "cell_type": "markdown",
   "metadata": {},
   "source": [
    "## C5T2 - Exploratory Data Analysis of Credit One Data"
   ]
  },
  {
   "cell_type": "code",
   "execution_count": 5,
   "metadata": {},
   "outputs": [],
   "source": [
    "import pandas as pd\n",
    "import numpy as np\n",
    "import matplotlib.pyplot as plt\n",
    "import matplotlib as mpl\n",
    "import seaborn as sns \n"
   ]
  },
  {
   "cell_type": "code",
   "execution_count": 6,
   "metadata": {},
   "outputs": [],
   "source": [
    "credit_raw = pd.read_csv('default of credit card clients.csv', header = 1)"
   ]
  },
  {
   "cell_type": "markdown",
   "metadata": {},
   "source": [
    "# Examine dataset"
   ]
  },
  {
   "cell_type": "code",
   "execution_count": 7,
   "metadata": {},
   "outputs": [
    {
     "data": {
      "text/html": [
       "<div>\n",
       "<style scoped>\n",
       "    .dataframe tbody tr th:only-of-type {\n",
       "        vertical-align: middle;\n",
       "    }\n",
       "\n",
       "    .dataframe tbody tr th {\n",
       "        vertical-align: top;\n",
       "    }\n",
       "\n",
       "    .dataframe thead th {\n",
       "        text-align: right;\n",
       "    }\n",
       "</style>\n",
       "<table border=\"1\" class=\"dataframe\">\n",
       "  <thead>\n",
       "    <tr style=\"text-align: right;\">\n",
       "      <th></th>\n",
       "      <th>ID</th>\n",
       "      <th>LIMIT_BAL</th>\n",
       "      <th>SEX</th>\n",
       "      <th>EDUCATION</th>\n",
       "      <th>MARRIAGE</th>\n",
       "      <th>AGE</th>\n",
       "      <th>PAY_0</th>\n",
       "      <th>PAY_2</th>\n",
       "      <th>PAY_3</th>\n",
       "      <th>PAY_4</th>\n",
       "      <th>...</th>\n",
       "      <th>BILL_AMT4</th>\n",
       "      <th>BILL_AMT5</th>\n",
       "      <th>BILL_AMT6</th>\n",
       "      <th>PAY_AMT1</th>\n",
       "      <th>PAY_AMT2</th>\n",
       "      <th>PAY_AMT3</th>\n",
       "      <th>PAY_AMT4</th>\n",
       "      <th>PAY_AMT5</th>\n",
       "      <th>PAY_AMT6</th>\n",
       "      <th>default payment next month</th>\n",
       "    </tr>\n",
       "  </thead>\n",
       "  <tbody>\n",
       "    <tr>\n",
       "      <th>0</th>\n",
       "      <td>1</td>\n",
       "      <td>20000</td>\n",
       "      <td>2</td>\n",
       "      <td>2</td>\n",
       "      <td>1</td>\n",
       "      <td>24</td>\n",
       "      <td>2</td>\n",
       "      <td>2</td>\n",
       "      <td>-1</td>\n",
       "      <td>-1</td>\n",
       "      <td>...</td>\n",
       "      <td>0</td>\n",
       "      <td>0</td>\n",
       "      <td>0</td>\n",
       "      <td>0</td>\n",
       "      <td>689</td>\n",
       "      <td>0</td>\n",
       "      <td>0</td>\n",
       "      <td>0</td>\n",
       "      <td>0</td>\n",
       "      <td>1</td>\n",
       "    </tr>\n",
       "    <tr>\n",
       "      <th>1</th>\n",
       "      <td>2</td>\n",
       "      <td>120000</td>\n",
       "      <td>2</td>\n",
       "      <td>2</td>\n",
       "      <td>2</td>\n",
       "      <td>26</td>\n",
       "      <td>-1</td>\n",
       "      <td>2</td>\n",
       "      <td>0</td>\n",
       "      <td>0</td>\n",
       "      <td>...</td>\n",
       "      <td>3272</td>\n",
       "      <td>3455</td>\n",
       "      <td>3261</td>\n",
       "      <td>0</td>\n",
       "      <td>1000</td>\n",
       "      <td>1000</td>\n",
       "      <td>1000</td>\n",
       "      <td>0</td>\n",
       "      <td>2000</td>\n",
       "      <td>1</td>\n",
       "    </tr>\n",
       "    <tr>\n",
       "      <th>2</th>\n",
       "      <td>3</td>\n",
       "      <td>90000</td>\n",
       "      <td>2</td>\n",
       "      <td>2</td>\n",
       "      <td>2</td>\n",
       "      <td>34</td>\n",
       "      <td>0</td>\n",
       "      <td>0</td>\n",
       "      <td>0</td>\n",
       "      <td>0</td>\n",
       "      <td>...</td>\n",
       "      <td>14331</td>\n",
       "      <td>14948</td>\n",
       "      <td>15549</td>\n",
       "      <td>1518</td>\n",
       "      <td>1500</td>\n",
       "      <td>1000</td>\n",
       "      <td>1000</td>\n",
       "      <td>1000</td>\n",
       "      <td>5000</td>\n",
       "      <td>0</td>\n",
       "    </tr>\n",
       "    <tr>\n",
       "      <th>3</th>\n",
       "      <td>4</td>\n",
       "      <td>50000</td>\n",
       "      <td>2</td>\n",
       "      <td>2</td>\n",
       "      <td>1</td>\n",
       "      <td>37</td>\n",
       "      <td>0</td>\n",
       "      <td>0</td>\n",
       "      <td>0</td>\n",
       "      <td>0</td>\n",
       "      <td>...</td>\n",
       "      <td>28314</td>\n",
       "      <td>28959</td>\n",
       "      <td>29547</td>\n",
       "      <td>2000</td>\n",
       "      <td>2019</td>\n",
       "      <td>1200</td>\n",
       "      <td>1100</td>\n",
       "      <td>1069</td>\n",
       "      <td>1000</td>\n",
       "      <td>0</td>\n",
       "    </tr>\n",
       "    <tr>\n",
       "      <th>4</th>\n",
       "      <td>5</td>\n",
       "      <td>50000</td>\n",
       "      <td>1</td>\n",
       "      <td>2</td>\n",
       "      <td>1</td>\n",
       "      <td>57</td>\n",
       "      <td>-1</td>\n",
       "      <td>0</td>\n",
       "      <td>-1</td>\n",
       "      <td>0</td>\n",
       "      <td>...</td>\n",
       "      <td>20940</td>\n",
       "      <td>19146</td>\n",
       "      <td>19131</td>\n",
       "      <td>2000</td>\n",
       "      <td>36681</td>\n",
       "      <td>10000</td>\n",
       "      <td>9000</td>\n",
       "      <td>689</td>\n",
       "      <td>679</td>\n",
       "      <td>0</td>\n",
       "    </tr>\n",
       "  </tbody>\n",
       "</table>\n",
       "<p>5 rows × 25 columns</p>\n",
       "</div>"
      ],
      "text/plain": [
       "   ID  LIMIT_BAL  SEX  EDUCATION  MARRIAGE  AGE  PAY_0  PAY_2  PAY_3  PAY_4  \\\n",
       "0   1      20000    2          2         1   24      2      2     -1     -1   \n",
       "1   2     120000    2          2         2   26     -1      2      0      0   \n",
       "2   3      90000    2          2         2   34      0      0      0      0   \n",
       "3   4      50000    2          2         1   37      0      0      0      0   \n",
       "4   5      50000    1          2         1   57     -1      0     -1      0   \n",
       "\n",
       "              ...              BILL_AMT4  BILL_AMT5  BILL_AMT6  PAY_AMT1  \\\n",
       "0             ...                      0          0          0         0   \n",
       "1             ...                   3272       3455       3261         0   \n",
       "2             ...                  14331      14948      15549      1518   \n",
       "3             ...                  28314      28959      29547      2000   \n",
       "4             ...                  20940      19146      19131      2000   \n",
       "\n",
       "   PAY_AMT2  PAY_AMT3  PAY_AMT4  PAY_AMT5  PAY_AMT6  \\\n",
       "0       689         0         0         0         0   \n",
       "1      1000      1000      1000         0      2000   \n",
       "2      1500      1000      1000      1000      5000   \n",
       "3      2019      1200      1100      1069      1000   \n",
       "4     36681     10000      9000       689       679   \n",
       "\n",
       "   default payment next month  \n",
       "0                           1  \n",
       "1                           1  \n",
       "2                           0  \n",
       "3                           0  \n",
       "4                           0  \n",
       "\n",
       "[5 rows x 25 columns]"
      ]
     },
     "execution_count": 7,
     "metadata": {},
     "output_type": "execute_result"
    }
   ],
   "source": [
    "# look at the feature headers and first 5 rows of data\n",
    "credit_raw.head()"
   ]
  },
  {
   "cell_type": "code",
   "execution_count": 8,
   "metadata": {},
   "outputs": [
    {
     "data": {
      "text/html": [
       "<div>\n",
       "<style scoped>\n",
       "    .dataframe tbody tr th:only-of-type {\n",
       "        vertical-align: middle;\n",
       "    }\n",
       "\n",
       "    .dataframe tbody tr th {\n",
       "        vertical-align: top;\n",
       "    }\n",
       "\n",
       "    .dataframe thead th {\n",
       "        text-align: right;\n",
       "    }\n",
       "</style>\n",
       "<table border=\"1\" class=\"dataframe\">\n",
       "  <thead>\n",
       "    <tr style=\"text-align: right;\">\n",
       "      <th></th>\n",
       "      <th>ID</th>\n",
       "      <th>LIMIT_BAL</th>\n",
       "      <th>SEX</th>\n",
       "      <th>EDUCATION</th>\n",
       "      <th>MARRIAGE</th>\n",
       "      <th>AGE</th>\n",
       "      <th>PAY_0</th>\n",
       "      <th>PAY_2</th>\n",
       "      <th>PAY_3</th>\n",
       "      <th>PAY_4</th>\n",
       "      <th>...</th>\n",
       "      <th>BILL_AMT4</th>\n",
       "      <th>BILL_AMT5</th>\n",
       "      <th>BILL_AMT6</th>\n",
       "      <th>PAY_AMT1</th>\n",
       "      <th>PAY_AMT2</th>\n",
       "      <th>PAY_AMT3</th>\n",
       "      <th>PAY_AMT4</th>\n",
       "      <th>PAY_AMT5</th>\n",
       "      <th>PAY_AMT6</th>\n",
       "      <th>default payment next month</th>\n",
       "    </tr>\n",
       "  </thead>\n",
       "  <tbody>\n",
       "    <tr>\n",
       "      <th>count</th>\n",
       "      <td>30000.000000</td>\n",
       "      <td>30000.000000</td>\n",
       "      <td>30000.000000</td>\n",
       "      <td>30000.000000</td>\n",
       "      <td>30000.000000</td>\n",
       "      <td>30000.000000</td>\n",
       "      <td>30000.000000</td>\n",
       "      <td>30000.000000</td>\n",
       "      <td>30000.000000</td>\n",
       "      <td>30000.000000</td>\n",
       "      <td>...</td>\n",
       "      <td>30000.000000</td>\n",
       "      <td>30000.000000</td>\n",
       "      <td>30000.000000</td>\n",
       "      <td>30000.000000</td>\n",
       "      <td>3.000000e+04</td>\n",
       "      <td>30000.00000</td>\n",
       "      <td>30000.000000</td>\n",
       "      <td>30000.000000</td>\n",
       "      <td>30000.000000</td>\n",
       "      <td>30000.000000</td>\n",
       "    </tr>\n",
       "    <tr>\n",
       "      <th>mean</th>\n",
       "      <td>15000.500000</td>\n",
       "      <td>167484.322667</td>\n",
       "      <td>1.603733</td>\n",
       "      <td>1.853133</td>\n",
       "      <td>1.551867</td>\n",
       "      <td>35.485500</td>\n",
       "      <td>-0.016700</td>\n",
       "      <td>-0.133767</td>\n",
       "      <td>-0.166200</td>\n",
       "      <td>-0.220667</td>\n",
       "      <td>...</td>\n",
       "      <td>43262.948967</td>\n",
       "      <td>40311.400967</td>\n",
       "      <td>38871.760400</td>\n",
       "      <td>5663.580500</td>\n",
       "      <td>5.921163e+03</td>\n",
       "      <td>5225.68150</td>\n",
       "      <td>4826.076867</td>\n",
       "      <td>4799.387633</td>\n",
       "      <td>5215.502567</td>\n",
       "      <td>0.221200</td>\n",
       "    </tr>\n",
       "    <tr>\n",
       "      <th>std</th>\n",
       "      <td>8660.398374</td>\n",
       "      <td>129747.661567</td>\n",
       "      <td>0.489129</td>\n",
       "      <td>0.790349</td>\n",
       "      <td>0.521970</td>\n",
       "      <td>9.217904</td>\n",
       "      <td>1.123802</td>\n",
       "      <td>1.197186</td>\n",
       "      <td>1.196868</td>\n",
       "      <td>1.169139</td>\n",
       "      <td>...</td>\n",
       "      <td>64332.856134</td>\n",
       "      <td>60797.155770</td>\n",
       "      <td>59554.107537</td>\n",
       "      <td>16563.280354</td>\n",
       "      <td>2.304087e+04</td>\n",
       "      <td>17606.96147</td>\n",
       "      <td>15666.159744</td>\n",
       "      <td>15278.305679</td>\n",
       "      <td>17777.465775</td>\n",
       "      <td>0.415062</td>\n",
       "    </tr>\n",
       "    <tr>\n",
       "      <th>min</th>\n",
       "      <td>1.000000</td>\n",
       "      <td>10000.000000</td>\n",
       "      <td>1.000000</td>\n",
       "      <td>0.000000</td>\n",
       "      <td>0.000000</td>\n",
       "      <td>21.000000</td>\n",
       "      <td>-2.000000</td>\n",
       "      <td>-2.000000</td>\n",
       "      <td>-2.000000</td>\n",
       "      <td>-2.000000</td>\n",
       "      <td>...</td>\n",
       "      <td>-170000.000000</td>\n",
       "      <td>-81334.000000</td>\n",
       "      <td>-339603.000000</td>\n",
       "      <td>0.000000</td>\n",
       "      <td>0.000000e+00</td>\n",
       "      <td>0.00000</td>\n",
       "      <td>0.000000</td>\n",
       "      <td>0.000000</td>\n",
       "      <td>0.000000</td>\n",
       "      <td>0.000000</td>\n",
       "    </tr>\n",
       "    <tr>\n",
       "      <th>25%</th>\n",
       "      <td>7500.750000</td>\n",
       "      <td>50000.000000</td>\n",
       "      <td>1.000000</td>\n",
       "      <td>1.000000</td>\n",
       "      <td>1.000000</td>\n",
       "      <td>28.000000</td>\n",
       "      <td>-1.000000</td>\n",
       "      <td>-1.000000</td>\n",
       "      <td>-1.000000</td>\n",
       "      <td>-1.000000</td>\n",
       "      <td>...</td>\n",
       "      <td>2326.750000</td>\n",
       "      <td>1763.000000</td>\n",
       "      <td>1256.000000</td>\n",
       "      <td>1000.000000</td>\n",
       "      <td>8.330000e+02</td>\n",
       "      <td>390.00000</td>\n",
       "      <td>296.000000</td>\n",
       "      <td>252.500000</td>\n",
       "      <td>117.750000</td>\n",
       "      <td>0.000000</td>\n",
       "    </tr>\n",
       "    <tr>\n",
       "      <th>50%</th>\n",
       "      <td>15000.500000</td>\n",
       "      <td>140000.000000</td>\n",
       "      <td>2.000000</td>\n",
       "      <td>2.000000</td>\n",
       "      <td>2.000000</td>\n",
       "      <td>34.000000</td>\n",
       "      <td>0.000000</td>\n",
       "      <td>0.000000</td>\n",
       "      <td>0.000000</td>\n",
       "      <td>0.000000</td>\n",
       "      <td>...</td>\n",
       "      <td>19052.000000</td>\n",
       "      <td>18104.500000</td>\n",
       "      <td>17071.000000</td>\n",
       "      <td>2100.000000</td>\n",
       "      <td>2.009000e+03</td>\n",
       "      <td>1800.00000</td>\n",
       "      <td>1500.000000</td>\n",
       "      <td>1500.000000</td>\n",
       "      <td>1500.000000</td>\n",
       "      <td>0.000000</td>\n",
       "    </tr>\n",
       "    <tr>\n",
       "      <th>75%</th>\n",
       "      <td>22500.250000</td>\n",
       "      <td>240000.000000</td>\n",
       "      <td>2.000000</td>\n",
       "      <td>2.000000</td>\n",
       "      <td>2.000000</td>\n",
       "      <td>41.000000</td>\n",
       "      <td>0.000000</td>\n",
       "      <td>0.000000</td>\n",
       "      <td>0.000000</td>\n",
       "      <td>0.000000</td>\n",
       "      <td>...</td>\n",
       "      <td>54506.000000</td>\n",
       "      <td>50190.500000</td>\n",
       "      <td>49198.250000</td>\n",
       "      <td>5006.000000</td>\n",
       "      <td>5.000000e+03</td>\n",
       "      <td>4505.00000</td>\n",
       "      <td>4013.250000</td>\n",
       "      <td>4031.500000</td>\n",
       "      <td>4000.000000</td>\n",
       "      <td>0.000000</td>\n",
       "    </tr>\n",
       "    <tr>\n",
       "      <th>max</th>\n",
       "      <td>30000.000000</td>\n",
       "      <td>1000000.000000</td>\n",
       "      <td>2.000000</td>\n",
       "      <td>6.000000</td>\n",
       "      <td>3.000000</td>\n",
       "      <td>79.000000</td>\n",
       "      <td>8.000000</td>\n",
       "      <td>8.000000</td>\n",
       "      <td>8.000000</td>\n",
       "      <td>8.000000</td>\n",
       "      <td>...</td>\n",
       "      <td>891586.000000</td>\n",
       "      <td>927171.000000</td>\n",
       "      <td>961664.000000</td>\n",
       "      <td>873552.000000</td>\n",
       "      <td>1.684259e+06</td>\n",
       "      <td>896040.00000</td>\n",
       "      <td>621000.000000</td>\n",
       "      <td>426529.000000</td>\n",
       "      <td>528666.000000</td>\n",
       "      <td>1.000000</td>\n",
       "    </tr>\n",
       "  </tbody>\n",
       "</table>\n",
       "<p>8 rows × 25 columns</p>\n",
       "</div>"
      ],
      "text/plain": [
       "                 ID       LIMIT_BAL           SEX     EDUCATION      MARRIAGE  \\\n",
       "count  30000.000000    30000.000000  30000.000000  30000.000000  30000.000000   \n",
       "mean   15000.500000   167484.322667      1.603733      1.853133      1.551867   \n",
       "std     8660.398374   129747.661567      0.489129      0.790349      0.521970   \n",
       "min        1.000000    10000.000000      1.000000      0.000000      0.000000   \n",
       "25%     7500.750000    50000.000000      1.000000      1.000000      1.000000   \n",
       "50%    15000.500000   140000.000000      2.000000      2.000000      2.000000   \n",
       "75%    22500.250000   240000.000000      2.000000      2.000000      2.000000   \n",
       "max    30000.000000  1000000.000000      2.000000      6.000000      3.000000   \n",
       "\n",
       "                AGE         PAY_0         PAY_2         PAY_3         PAY_4  \\\n",
       "count  30000.000000  30000.000000  30000.000000  30000.000000  30000.000000   \n",
       "mean      35.485500     -0.016700     -0.133767     -0.166200     -0.220667   \n",
       "std        9.217904      1.123802      1.197186      1.196868      1.169139   \n",
       "min       21.000000     -2.000000     -2.000000     -2.000000     -2.000000   \n",
       "25%       28.000000     -1.000000     -1.000000     -1.000000     -1.000000   \n",
       "50%       34.000000      0.000000      0.000000      0.000000      0.000000   \n",
       "75%       41.000000      0.000000      0.000000      0.000000      0.000000   \n",
       "max       79.000000      8.000000      8.000000      8.000000      8.000000   \n",
       "\n",
       "                  ...                  BILL_AMT4      BILL_AMT5  \\\n",
       "count             ...               30000.000000   30000.000000   \n",
       "mean              ...               43262.948967   40311.400967   \n",
       "std               ...               64332.856134   60797.155770   \n",
       "min               ...             -170000.000000  -81334.000000   \n",
       "25%               ...                2326.750000    1763.000000   \n",
       "50%               ...               19052.000000   18104.500000   \n",
       "75%               ...               54506.000000   50190.500000   \n",
       "max               ...              891586.000000  927171.000000   \n",
       "\n",
       "           BILL_AMT6       PAY_AMT1      PAY_AMT2      PAY_AMT3  \\\n",
       "count   30000.000000   30000.000000  3.000000e+04   30000.00000   \n",
       "mean    38871.760400    5663.580500  5.921163e+03    5225.68150   \n",
       "std     59554.107537   16563.280354  2.304087e+04   17606.96147   \n",
       "min   -339603.000000       0.000000  0.000000e+00       0.00000   \n",
       "25%      1256.000000    1000.000000  8.330000e+02     390.00000   \n",
       "50%     17071.000000    2100.000000  2.009000e+03    1800.00000   \n",
       "75%     49198.250000    5006.000000  5.000000e+03    4505.00000   \n",
       "max    961664.000000  873552.000000  1.684259e+06  896040.00000   \n",
       "\n",
       "            PAY_AMT4       PAY_AMT5       PAY_AMT6  default payment next month  \n",
       "count   30000.000000   30000.000000   30000.000000                30000.000000  \n",
       "mean     4826.076867    4799.387633    5215.502567                    0.221200  \n",
       "std     15666.159744   15278.305679   17777.465775                    0.415062  \n",
       "min         0.000000       0.000000       0.000000                    0.000000  \n",
       "25%       296.000000     252.500000     117.750000                    0.000000  \n",
       "50%      1500.000000    1500.000000    1500.000000                    0.000000  \n",
       "75%      4013.250000    4031.500000    4000.000000                    0.000000  \n",
       "max    621000.000000  426529.000000  528666.000000                    1.000000  \n",
       "\n",
       "[8 rows x 25 columns]"
      ]
     },
     "execution_count": 8,
     "metadata": {},
     "output_type": "execute_result"
    }
   ],
   "source": [
    "# examine statistics of data\n",
    "credit_raw.describe()"
   ]
  },
  {
   "cell_type": "code",
   "execution_count": 9,
   "metadata": {},
   "outputs": [],
   "source": [
    "## more customer not default than default\n",
    "## mean age is 35-36"
   ]
  },
  {
   "cell_type": "code",
   "execution_count": null,
   "metadata": {},
   "outputs": [],
   "source": []
  },
  {
   "cell_type": "code",
   "execution_count": 10,
   "metadata": {},
   "outputs": [
    {
     "name": "stdout",
     "output_type": "stream",
     "text": [
      "<class 'pandas.core.frame.DataFrame'>\n",
      "RangeIndex: 30000 entries, 0 to 29999\n",
      "Data columns (total 25 columns):\n",
      "ID                            30000 non-null int64\n",
      "LIMIT_BAL                     30000 non-null int64\n",
      "SEX                           30000 non-null int64\n",
      "EDUCATION                     30000 non-null int64\n",
      "MARRIAGE                      30000 non-null int64\n",
      "AGE                           30000 non-null int64\n",
      "PAY_0                         30000 non-null int64\n",
      "PAY_2                         30000 non-null int64\n",
      "PAY_3                         30000 non-null int64\n",
      "PAY_4                         30000 non-null int64\n",
      "PAY_5                         30000 non-null int64\n",
      "PAY_6                         30000 non-null int64\n",
      "BILL_AMT1                     30000 non-null int64\n",
      "BILL_AMT2                     30000 non-null int64\n",
      "BILL_AMT3                     30000 non-null int64\n",
      "BILL_AMT4                     30000 non-null int64\n",
      "BILL_AMT5                     30000 non-null int64\n",
      "BILL_AMT6                     30000 non-null int64\n",
      "PAY_AMT1                      30000 non-null int64\n",
      "PAY_AMT2                      30000 non-null int64\n",
      "PAY_AMT3                      30000 non-null int64\n",
      "PAY_AMT4                      30000 non-null int64\n",
      "PAY_AMT5                      30000 non-null int64\n",
      "PAY_AMT6                      30000 non-null int64\n",
      "default payment next month    30000 non-null int64\n",
      "dtypes: int64(25)\n",
      "memory usage: 5.7 MB\n"
     ]
    }
   ],
   "source": [
    "# examine data types\n",
    "credit_raw.info()"
   ]
  },
  {
   "cell_type": "code",
   "execution_count": 11,
   "metadata": {},
   "outputs": [],
   "source": [
    "## all features are integers"
   ]
  },
  {
   "cell_type": "code",
   "execution_count": 12,
   "metadata": {},
   "outputs": [
    {
     "data": {
      "text/plain": [
       "ID                            0\n",
       "LIMIT_BAL                     0\n",
       "SEX                           0\n",
       "EDUCATION                     0\n",
       "MARRIAGE                      0\n",
       "AGE                           0\n",
       "PAY_0                         0\n",
       "PAY_2                         0\n",
       "PAY_3                         0\n",
       "PAY_4                         0\n",
       "PAY_5                         0\n",
       "PAY_6                         0\n",
       "BILL_AMT1                     0\n",
       "BILL_AMT2                     0\n",
       "BILL_AMT3                     0\n",
       "BILL_AMT4                     0\n",
       "BILL_AMT5                     0\n",
       "BILL_AMT6                     0\n",
       "PAY_AMT1                      0\n",
       "PAY_AMT2                      0\n",
       "PAY_AMT3                      0\n",
       "PAY_AMT4                      0\n",
       "PAY_AMT5                      0\n",
       "PAY_AMT6                      0\n",
       "default payment next month    0\n",
       "dtype: int64"
      ]
     },
     "execution_count": 12,
     "metadata": {},
     "output_type": "execute_result"
    }
   ],
   "source": [
    "# check for missing data\n",
    "credit_raw.isnull().sum()"
   ]
  },
  {
   "cell_type": "markdown",
   "metadata": {},
   "source": [
    "# Data cleaning/prep"
   ]
  },
  {
   "cell_type": "code",
   "execution_count": 13,
   "metadata": {},
   "outputs": [
    {
     "name": "stdout",
     "output_type": "stream",
     "text": [
      "<class 'pandas.core.frame.DataFrame'>\n",
      "RangeIndex: 30000 entries, 0 to 29999\n",
      "Data columns (total 24 columns):\n",
      "LIMIT_BAL                     30000 non-null int64\n",
      "SEX                           30000 non-null int64\n",
      "EDUCATION                     30000 non-null int64\n",
      "MARRIAGE                      30000 non-null int64\n",
      "AGE                           30000 non-null int64\n",
      "PAY_0                         30000 non-null int64\n",
      "PAY_2                         30000 non-null int64\n",
      "PAY_3                         30000 non-null int64\n",
      "PAY_4                         30000 non-null int64\n",
      "PAY_5                         30000 non-null int64\n",
      "PAY_6                         30000 non-null int64\n",
      "BILL_AMT1                     30000 non-null int64\n",
      "BILL_AMT2                     30000 non-null int64\n",
      "BILL_AMT3                     30000 non-null int64\n",
      "BILL_AMT4                     30000 non-null int64\n",
      "BILL_AMT5                     30000 non-null int64\n",
      "BILL_AMT6                     30000 non-null int64\n",
      "PAY_AMT1                      30000 non-null int64\n",
      "PAY_AMT2                      30000 non-null int64\n",
      "PAY_AMT3                      30000 non-null int64\n",
      "PAY_AMT4                      30000 non-null int64\n",
      "PAY_AMT5                      30000 non-null int64\n",
      "PAY_AMT6                      30000 non-null int64\n",
      "default payment next month    30000 non-null int64\n",
      "dtypes: int64(24)\n",
      "memory usage: 5.5 MB\n"
     ]
    }
   ],
   "source": [
    "# drop ID column\n",
    "credit = credit_raw.drop('ID', axis=1)\n",
    "credit.info()"
   ]
  },
  {
   "cell_type": "code",
   "execution_count": 14,
   "metadata": {
    "scrolled": true
   },
   "outputs": [],
   "source": [
    "## discretize age into decades (20, 30, 40, 50, 60, 70)\n",
    "credit['AGE'] = pd.cut(credit['AGE'], bins=[20,29,39,49,59,69,79], labels=[20,30,40,50,60,70])"
   ]
  },
  {
   "cell_type": "code",
   "execution_count": 15,
   "metadata": {},
   "outputs": [],
   "source": [
    "## rename discretized column AGE to AGE_BIN, default payment next month to default\n",
    "credit = credit.rename(index = str, columns ={'AGE':'AGE_BIN', 'default payment next month':'DEFAULT'})"
   ]
  },
  {
   "cell_type": "code",
   "execution_count": 16,
   "metadata": {},
   "outputs": [
    {
     "name": "stdout",
     "output_type": "stream",
     "text": [
      "<class 'pandas.core.frame.DataFrame'>\n",
      "Index: 30000 entries, 0 to 29999\n",
      "Data columns (total 24 columns):\n",
      "LIMIT_BAL    30000 non-null int64\n",
      "SEX          30000 non-null int64\n",
      "EDUCATION    30000 non-null int64\n",
      "MARRIAGE     30000 non-null int64\n",
      "AGE_BIN      30000 non-null category\n",
      "PAY_0        30000 non-null int64\n",
      "PAY_2        30000 non-null int64\n",
      "PAY_3        30000 non-null int64\n",
      "PAY_4        30000 non-null int64\n",
      "PAY_5        30000 non-null int64\n",
      "PAY_6        30000 non-null int64\n",
      "BILL_AMT1    30000 non-null int64\n",
      "BILL_AMT2    30000 non-null int64\n",
      "BILL_AMT3    30000 non-null int64\n",
      "BILL_AMT4    30000 non-null int64\n",
      "BILL_AMT5    30000 non-null int64\n",
      "BILL_AMT6    30000 non-null int64\n",
      "PAY_AMT1     30000 non-null int64\n",
      "PAY_AMT2     30000 non-null int64\n",
      "PAY_AMT3     30000 non-null int64\n",
      "PAY_AMT4     30000 non-null int64\n",
      "PAY_AMT5     30000 non-null int64\n",
      "PAY_AMT6     30000 non-null int64\n",
      "DEFAULT      30000 non-null int64\n",
      "dtypes: category(1), int64(23)\n",
      "memory usage: 5.5+ MB\n"
     ]
    }
   ],
   "source": [
    "credit.info()\n",
    "## AGE_BIN is not int64, change to int64"
   ]
  },
  {
   "cell_type": "code",
   "execution_count": 17,
   "metadata": {},
   "outputs": [],
   "source": [
    "credit = credit.astype({'AGE_BIN':'int64'})"
   ]
  },
  {
   "cell_type": "code",
   "execution_count": 18,
   "metadata": {},
   "outputs": [
    {
     "name": "stdout",
     "output_type": "stream",
     "text": [
      "<class 'pandas.core.frame.DataFrame'>\n",
      "Index: 30000 entries, 0 to 29999\n",
      "Data columns (total 24 columns):\n",
      "LIMIT_BAL    30000 non-null int64\n",
      "SEX          30000 non-null int64\n",
      "EDUCATION    30000 non-null int64\n",
      "MARRIAGE     30000 non-null int64\n",
      "AGE_BIN      30000 non-null int64\n",
      "PAY_0        30000 non-null int64\n",
      "PAY_2        30000 non-null int64\n",
      "PAY_3        30000 non-null int64\n",
      "PAY_4        30000 non-null int64\n",
      "PAY_5        30000 non-null int64\n",
      "PAY_6        30000 non-null int64\n",
      "BILL_AMT1    30000 non-null int64\n",
      "BILL_AMT2    30000 non-null int64\n",
      "BILL_AMT3    30000 non-null int64\n",
      "BILL_AMT4    30000 non-null int64\n",
      "BILL_AMT5    30000 non-null int64\n",
      "BILL_AMT6    30000 non-null int64\n",
      "PAY_AMT1     30000 non-null int64\n",
      "PAY_AMT2     30000 non-null int64\n",
      "PAY_AMT3     30000 non-null int64\n",
      "PAY_AMT4     30000 non-null int64\n",
      "PAY_AMT5     30000 non-null int64\n",
      "PAY_AMT6     30000 non-null int64\n",
      "DEFAULT      30000 non-null int64\n",
      "dtypes: int64(24)\n",
      "memory usage: 5.7+ MB\n"
     ]
    }
   ],
   "source": [
    "credit.info()"
   ]
  },
  {
   "cell_type": "markdown",
   "metadata": {},
   "source": [
    "# Exploratory Data Analysis"
   ]
  },
  {
   "cell_type": "markdown",
   "metadata": {},
   "source": [
    "## Visualize data"
   ]
  },
  {
   "cell_type": "code",
   "execution_count": 19,
   "metadata": {},
   "outputs": [],
   "source": [
    "header = credit.dtypes.index"
   ]
  },
  {
   "cell_type": "code",
   "execution_count": 20,
   "metadata": {},
   "outputs": [
    {
     "name": "stdout",
     "output_type": "stream",
     "text": [
      "Index(['LIMIT_BAL', 'SEX', 'EDUCATION', 'MARRIAGE', 'AGE_BIN', 'PAY_0',\n",
      "       'PAY_2', 'PAY_3', 'PAY_4', 'PAY_5', 'PAY_6', 'BILL_AMT1', 'BILL_AMT2',\n",
      "       'BILL_AMT3', 'BILL_AMT4', 'BILL_AMT5', 'BILL_AMT6', 'PAY_AMT1',\n",
      "       'PAY_AMT2', 'PAY_AMT3', 'PAY_AMT4', 'PAY_AMT5', 'PAY_AMT6', 'DEFAULT'],\n",
      "      dtype='object')\n"
     ]
    }
   ],
   "source": [
    "print(header)"
   ]
  },
  {
   "cell_type": "code",
   "execution_count": 21,
   "metadata": {},
   "outputs": [
    {
     "data": {
      "text/plain": [
       "array([[<matplotlib.axes._subplots.AxesSubplot object at 0x0000023D14B9E588>,\n",
       "        <matplotlib.axes._subplots.AxesSubplot object at 0x0000023D14E9A780>,\n",
       "        <matplotlib.axes._subplots.AxesSubplot object at 0x0000023D15032A20>],\n",
       "       [<matplotlib.axes._subplots.AxesSubplot object at 0x0000023D1505ED30>,\n",
       "        <matplotlib.axes._subplots.AxesSubplot object at 0x0000023D15092080>,\n",
       "        <matplotlib.axes._subplots.AxesSubplot object at 0x0000023D150920B8>]],\n",
       "      dtype=object)"
      ]
     },
     "execution_count": 21,
     "metadata": {},
     "output_type": "execute_result"
    },
    {
     "data": {
      "image/png": "[encoded data removed]",
      "text/plain": [
       "<Figure size 1008x432 with 6 Axes>"
      ]
     },
     "metadata": {},
     "output_type": "display_data"
    }
   ],
   "source": [
    "## distribution of first 5 variables and default\n",
    "credit.hist(column = ['LIMIT_BAL', 'SEX', 'EDUCATION', 'MARRIAGE', 'AGE_BIN', 'DEFAULT'], figsize = (14,6), layout = (2,3))"
   ]
  },
  {
   "cell_type": "code",
   "execution_count": 22,
   "metadata": {},
   "outputs": [
    {
     "data": {
      "text/plain": [
       "array([[<matplotlib.axes._subplots.AxesSubplot object at 0x0000023D14F8FE10>,\n",
       "        <matplotlib.axes._subplots.AxesSubplot object at 0x0000023D14FDD2E8>,\n",
       "        <matplotlib.axes._subplots.AxesSubplot object at 0x0000023D15B145F8>],\n",
       "       [<matplotlib.axes._subplots.AxesSubplot object at 0x0000023D15B3C908>,\n",
       "        <matplotlib.axes._subplots.AxesSubplot object at 0x0000023D15CA6C18>,\n",
       "        <matplotlib.axes._subplots.AxesSubplot object at 0x0000023D15CA6C50>]],\n",
       "      dtype=object)"
      ]
     },
     "execution_count": 22,
     "metadata": {},
     "output_type": "execute_result"
    },
    {
     "data": {
      "image/png": "[encoded data removed]",
      "text/plain": [
       "<Figure size 1008x432 with 6 Axes>"
      ]
     },
     "metadata": {},
     "output_type": "display_data"
    }
   ],
   "source": [
    "## distribution of payment status\n",
    "credit.hist(column = [ 'PAY_0', 'PAY_2', 'PAY_3', 'PAY_4', 'PAY_5', 'PAY_6',], figsize = (14,6), layout = (2,3))"
   ]
  },
  {
   "cell_type": "markdown",
   "metadata": {},
   "source": [
    "## Default vs. Limit balance"
   ]
  },
  {
   "cell_type": "code",
   "execution_count": 23,
   "metadata": {},
   "outputs": [
    {
     "data": {
      "image/png": "[encoded data removed]",
      "text/plain": [
       "<Figure size 432x288 with 1 Axes>"
      ]
     },
     "metadata": {},
     "output_type": "display_data"
    }
   ],
   "source": [
    "##  default vs. limit balance\n",
    "p_credit = credit[credit['DEFAULT'] == 0]\n",
    "d_credit = credit[credit['DEFAULT'] == 1]\n",
    "bins = np.linspace(0, 800000,15)\n",
    "\n",
    "plt.hist([p_credit['LIMIT_BAL'], d_credit['LIMIT_BAL']], bins,  color = ['g','b'], alpha=0.8, label= ['not default', 'default'])\n",
    "plt.legend(loc='upper right')\n",
    "plt.xlabel('Limit Balance')\n",
    "plt.ylabel('Count')\n",
    "plt.show()"
   ]
  },
  {
   "cell_type": "code",
   "execution_count": 24,
   "metadata": {},
   "outputs": [],
   "source": [
    "## default rate drops with increasing limit balance"
   ]
  },
  {
   "cell_type": "markdown",
   "metadata": {},
   "source": [
    "### Default rate and gender"
   ]
  },
  {
   "cell_type": "code",
   "execution_count": 25,
   "metadata": {},
   "outputs": [
    {
     "data": {
      "text/plain": [
       "<seaborn.axisgrid.FacetGrid at 0x23d14b9e518>"
      ]
     },
     "execution_count": 25,
     "metadata": {},
     "output_type": "execute_result"
    },
    {
     "data": {
      "image/png": "[encoded data removed]",
      "text/plain": [
       "<Figure size 485.484x288 with 1 Axes>"
      ]
     },
     "metadata": {},
     "output_type": "display_data"
    }
   ],
   "source": [
    "## Gender and default rate\n",
    "\n",
    "g = sns.factorplot('SEX', data=credit, hue='DEFAULT', kind='count', aspect=1.5)\n",
    "g.set_xlabels('SEX')"
   ]
  },
  {
   "cell_type": "code",
   "execution_count": 133,
   "metadata": {},
   "outputs": [],
   "source": [
    "## more male (1) default in payment than female (2)"
   ]
  },
  {
   "cell_type": "markdown",
   "metadata": {},
   "source": [
    "### DEFAULT vs. Education Level"
   ]
  },
  {
   "cell_type": "code",
   "execution_count": 145,
   "metadata": {
    "scrolled": true
   },
   "outputs": [
    {
     "data": {
      "image/png": "[encoded data removed]",
      "text/plain": [
       "<Figure size 432x288 with 1 Axes>"
      ]
     },
     "metadata": {},
     "output_type": "display_data"
    }
   ],
   "source": [
    "## default behavior with education\n",
    "p_credit = credit[credit['DEFAULT'] == 0]\n",
    "d_credit = credit[credit['DEFAULT'] == 1]\n",
    "bins = np.linspace(0, 6,10)\n",
    "\n",
    "plt.hist([p_credit['EDUCATION'], d_credit['EDUCATION']], bins,  color = ['g','b'], alpha=0.8, label= ['not default', 'default'])\n",
    "plt.legend(loc='upper right')\n",
    "plt.xlabel('Education level')\n",
    "plt.ylabel('count')\n",
    "plt.show()"
   ]
  },
  {
   "cell_type": "code",
   "execution_count": 198,
   "metadata": {},
   "outputs": [
    {
     "data": {
      "text/plain": [
       "<matplotlib.axes._subplots.AxesSubplot at 0x1b0b77af7b8>"
      ]
     },
     "execution_count": 198,
     "metadata": {},
     "output_type": "execute_result"
    },
    {
     "data": {
      "image/png": "[encoded data removed]",
      "text/plain": [
       "<Figure size 432x288 with 1 Axes>"
      ]
     },
     "metadata": {},
     "output_type": "display_data"
    }
   ],
   "source": [
    "## default vs. education level grouped by gender\n",
    "sns.pointplot(x='EDUCATION', y = 'DEFAULT', hue='SEX', data=credit, kind = \"point\")"
   ]
  },
  {
   "cell_type": "code",
   "execution_count": null,
   "metadata": {},
   "outputs": [],
   "source": [
    "## people with grad school education (1) has lower default rate than university (2) and high school (3) level education"
   ]
  },
  {
   "cell_type": "markdown",
   "metadata": {},
   "source": [
    "### Default vs. marital status"
   ]
  },
  {
   "cell_type": "code",
   "execution_count": 184,
   "metadata": {},
   "outputs": [
    {
     "data": {
      "image/png": "[encoded data removed]",
      "text/plain": [
       "<Figure size 432x288 with 1 Axes>"
      ]
     },
     "metadata": {},
     "output_type": "display_data"
    }
   ],
   "source": [
    "## default behavior with marital status\n",
    "p_credit = credit[credit['DEFAULT'] == 0]\n",
    "d_credit = credit[credit['DEFAULT'] == 1]\n",
    "bins = np.linspace(0, 3,9)\n",
    "\n",
    "plt.hist([p_credit['MARRIAGE'], d_credit['MARRIAGE']], bins, color = ['g','b'], alpha=0.8, label= ['not default', 'default'])\n",
    "plt.legend(loc='upper right')\n",
    "plt.xlabel('Marital Status')\n",
    "plt.ylabel('count')\n",
    "plt.ylim(0,15000)\n",
    "plt.show()"
   ]
  },
  {
   "cell_type": "code",
   "execution_count": 197,
   "metadata": {},
   "outputs": [
    {
     "data": {
      "text/plain": [
       "<matplotlib.axes._subplots.AxesSubplot at 0x1b0b77c0630>"
      ]
     },
     "execution_count": 197,
     "metadata": {},
     "output_type": "execute_result"
    },
    {
     "data": {
      "image/png": "[encoded data removed]",
      "text/plain": [
       "<Figure size 432x288 with 1 Axes>"
      ]
     },
     "metadata": {},
     "output_type": "display_data"
    }
   ],
   "source": [
    "## default vs. marital status grouped by gender\n",
    "sns.pointplot(x='MARRIAGE', y = 'DEFAULT', hue='SEX', data=credit, kind = \"point\")"
   ]
  },
  {
   "cell_type": "code",
   "execution_count": null,
   "metadata": {},
   "outputs": [],
   "source": [
    "## singles (2) have the lower default rate than married or divorced"
   ]
  },
  {
   "cell_type": "markdown",
   "metadata": {},
   "source": [
    "### Default vs. AGE_BIN"
   ]
  },
  {
   "cell_type": "code",
   "execution_count": 199,
   "metadata": {},
   "outputs": [
    {
     "data": {
      "text/plain": [
       "<matplotlib.axes._subplots.AxesSubplot at 0x1b0b88af9e8>"
      ]
     },
     "execution_count": 199,
     "metadata": {},
     "output_type": "execute_result"
    },
    {
     "data": {
      "image/png": "[encoded data removed]",
      "text/plain": [
       "<Figure size 432x288 with 1 Axes>"
      ]
     },
     "metadata": {},
     "output_type": "display_data"
    }
   ],
   "source": [
    "## default vs. AGE_BIN grouped by gender\n",
    "sns.pointplot(x='AGE_BIN', y = 'DEFAULT', hue='SEX', data=credit, kind = \"point\")"
   ]
  },
  {
   "cell_type": "code",
   "execution_count": null,
   "metadata": {},
   "outputs": [],
   "source": [
    "## default rate rises slowly with age"
   ]
  },
  {
   "cell_type": "markdown",
   "metadata": {},
   "source": [
    "## Feature Correlation and Covariance"
   ]
  },
  {
   "cell_type": "code",
   "execution_count": null,
   "metadata": {},
   "outputs": [],
   "source": [
    "## Correlation matrix"
   ]
  },
  {
   "cell_type": "code",
   "execution_count": 26,
   "metadata": {},
   "outputs": [
    {
     "name": "stdout",
     "output_type": "stream",
     "text": [
      "           LIMIT_BAL       SEX  EDUCATION  MARRIAGE   AGE_BIN     PAY_0  \\\n",
      "LIMIT_BAL   1.000000  0.024755  -0.219161 -0.108139  0.133872 -0.271214   \n",
      "SEX         0.024755  1.000000   0.014232 -0.031389 -0.084366 -0.057643   \n",
      "EDUCATION  -0.219161  0.014232   1.000000 -0.143464  0.173686  0.105364   \n",
      "MARRIAGE   -0.108139 -0.031389  -0.143464  1.000000 -0.400690  0.019917   \n",
      "AGE_BIN     0.133872 -0.084366   0.173686 -0.400690  1.000000 -0.036857   \n",
      "PAY_0      -0.271214 -0.057643   0.105364  0.019917 -0.036857  1.000000   \n",
      "PAY_2      -0.296382 -0.070771   0.121566  0.024199 -0.046066  0.672164   \n",
      "PAY_3      -0.286123 -0.066096   0.114025  0.032688 -0.047784  0.574245   \n",
      "PAY_4      -0.267460 -0.060173   0.108793  0.033122 -0.045347  0.538841   \n",
      "PAY_5      -0.249411 -0.055064   0.097520  0.035629 -0.049775  0.509426   \n",
      "PAY_6      -0.235195 -0.044008   0.082316  0.034345 -0.044524  0.474553   \n",
      "BILL_AMT1   0.285430 -0.033642   0.023581 -0.023472  0.052579  0.187068   \n",
      "BILL_AMT2   0.278314 -0.031183   0.018749 -0.021602  0.050514  0.189859   \n",
      "BILL_AMT3   0.283236 -0.024563   0.013002 -0.024909  0.049748  0.179785   \n",
      "BILL_AMT4   0.293988 -0.021880  -0.000451 -0.023344  0.047599  0.179125   \n",
      "BILL_AMT5   0.295562 -0.017005  -0.007567 -0.025393  0.044749  0.180635   \n",
      "BILL_AMT6   0.290389 -0.016733  -0.009099 -0.021207  0.042291  0.176980   \n",
      "PAY_AMT1    0.195236 -0.000242  -0.037456 -0.005979  0.023195 -0.079269   \n",
      "PAY_AMT2    0.178408 -0.001391  -0.030038 -0.008093  0.020793 -0.070101   \n",
      "PAY_AMT3    0.210167 -0.008597  -0.039943 -0.003541  0.029233 -0.070561   \n",
      "PAY_AMT4    0.203242 -0.002229  -0.038218 -0.012659  0.021131 -0.064005   \n",
      "PAY_AMT5    0.217202 -0.001667  -0.040358 -0.001205  0.019370 -0.058190   \n",
      "PAY_AMT6    0.219595 -0.002766  -0.037200 -0.006641  0.020354 -0.058673   \n",
      "DEFAULT    -0.153520 -0.039961   0.028006 -0.024339  0.014722  0.324794   \n",
      "\n",
      "              PAY_2     PAY_3     PAY_4     PAY_5    ...     BILL_AMT4  \\\n",
      "LIMIT_BAL -0.296382 -0.286123 -0.267460 -0.249411    ...      0.293988   \n",
      "SEX       -0.070771 -0.066096 -0.060173 -0.055064    ...     -0.021880   \n",
      "EDUCATION  0.121566  0.114025  0.108793  0.097520    ...     -0.000451   \n",
      "MARRIAGE   0.024199  0.032688  0.033122  0.035629    ...     -0.023344   \n",
      "AGE_BIN   -0.046066 -0.047784 -0.045347 -0.049775    ...      0.047599   \n",
      "PAY_0      0.672164  0.574245  0.538841  0.509426    ...      0.179125   \n",
      "PAY_2      1.000000  0.766552  0.662067  0.622780    ...      0.222237   \n",
      "PAY_3      0.766552  1.000000  0.777359  0.686775    ...      0.227202   \n",
      "PAY_4      0.662067  0.777359  1.000000  0.819835    ...      0.245917   \n",
      "PAY_5      0.622780  0.686775  0.819835  1.000000    ...      0.271915   \n",
      "PAY_6      0.575501  0.632684  0.716449  0.816900    ...      0.266356   \n",
      "BILL_AMT1  0.234887  0.208473  0.202812  0.206684    ...      0.860272   \n",
      "BILL_AMT2  0.235257  0.237295  0.225816  0.226913    ...      0.892482   \n",
      "BILL_AMT3  0.224146  0.227494  0.244983  0.243335    ...      0.923969   \n",
      "BILL_AMT4  0.222237  0.227202  0.245917  0.271915    ...      1.000000   \n",
      "BILL_AMT5  0.221348  0.225145  0.242902  0.269783    ...      0.940134   \n",
      "BILL_AMT6  0.219403  0.222327  0.239154  0.262509    ...      0.900941   \n",
      "PAY_AMT1  -0.080701  0.001295 -0.009362 -0.006089    ...      0.233012   \n",
      "PAY_AMT2  -0.058990 -0.066793 -0.001944 -0.003191    ...      0.207564   \n",
      "PAY_AMT3  -0.055901 -0.053311 -0.069235  0.009062    ...      0.300023   \n",
      "PAY_AMT4  -0.046858 -0.046067 -0.043461 -0.058299    ...      0.130191   \n",
      "PAY_AMT5  -0.037093 -0.035863 -0.033590 -0.033337    ...      0.160433   \n",
      "PAY_AMT6  -0.036500 -0.035861 -0.026565 -0.023027    ...      0.177637   \n",
      "DEFAULT    0.263551  0.235253  0.216614  0.204149    ...     -0.010156   \n",
      "\n",
      "           BILL_AMT5  BILL_AMT6  PAY_AMT1  PAY_AMT2  PAY_AMT3  PAY_AMT4  \\\n",
      "LIMIT_BAL   0.295562   0.290389  0.195236  0.178408  0.210167  0.203242   \n",
      "SEX        -0.017005  -0.016733 -0.000242 -0.001391 -0.008597 -0.002229   \n",
      "EDUCATION  -0.007567  -0.009099 -0.037456 -0.030038 -0.039943 -0.038218   \n",
      "MARRIAGE   -0.025393  -0.021207 -0.005979 -0.008093 -0.003541 -0.012659   \n",
      "AGE_BIN     0.044749   0.042291  0.023195  0.020793  0.029233  0.021131   \n",
      "PAY_0       0.180635   0.176980 -0.079269 -0.070101 -0.070561 -0.064005   \n",
      "PAY_2       0.221348   0.219403 -0.080701 -0.058990 -0.055901 -0.046858   \n",
      "PAY_3       0.225145   0.222327  0.001295 -0.066793 -0.053311 -0.046067   \n",
      "PAY_4       0.242902   0.239154 -0.009362 -0.001944 -0.069235 -0.043461   \n",
      "PAY_5       0.269783   0.262509 -0.006089 -0.003191  0.009062 -0.058299   \n",
      "PAY_6       0.290894   0.285091 -0.001496 -0.005223  0.005834  0.019018   \n",
      "BILL_AMT1   0.829779   0.802650  0.140277  0.099355  0.156887  0.158303   \n",
      "BILL_AMT2   0.859778   0.831594  0.280365  0.100851  0.150718  0.147398   \n",
      "BILL_AMT3   0.883910   0.853320  0.244335  0.316936  0.130011  0.143405   \n",
      "BILL_AMT4   0.940134   0.900941  0.233012  0.207564  0.300023  0.130191   \n",
      "BILL_AMT5   1.000000   0.946197  0.217031  0.181246  0.252305  0.293118   \n",
      "BILL_AMT6   0.946197   1.000000  0.199965  0.172663  0.233770  0.250237   \n",
      "PAY_AMT1    0.217031   0.199965  1.000000  0.285576  0.252191  0.199558   \n",
      "PAY_AMT2    0.181246   0.172663  0.285576  1.000000  0.244770  0.180107   \n",
      "PAY_AMT3    0.252305   0.233770  0.252191  0.244770  1.000000  0.216325   \n",
      "PAY_AMT4    0.293118   0.250237  0.199558  0.180107  0.216325  1.000000   \n",
      "PAY_AMT5    0.141574   0.307729  0.148459  0.180908  0.159214  0.151830   \n",
      "PAY_AMT6    0.164184   0.115494  0.185735  0.157634  0.162740  0.157834   \n",
      "DEFAULT    -0.006760  -0.005372 -0.072929 -0.058579 -0.056250 -0.056827   \n",
      "\n",
      "           PAY_AMT5  PAY_AMT6   DEFAULT  \n",
      "LIMIT_BAL  0.217202  0.219595 -0.153520  \n",
      "SEX       -0.001667 -0.002766 -0.039961  \n",
      "EDUCATION -0.040358 -0.037200  0.028006  \n",
      "MARRIAGE  -0.001205 -0.006641 -0.024339  \n",
      "AGE_BIN    0.019370  0.020354  0.014722  \n",
      "PAY_0     -0.058190 -0.058673  0.324794  \n",
      "PAY_2     -0.037093 -0.036500  0.263551  \n",
      "PAY_3     -0.035863 -0.035861  0.235253  \n",
      "PAY_4     -0.033590 -0.026565  0.216614  \n",
      "PAY_5     -0.033337 -0.023027  0.204149  \n",
      "PAY_6     -0.046434 -0.025299  0.186866  \n",
      "BILL_AMT1  0.167026  0.179341 -0.019644  \n",
      "BILL_AMT2  0.157957  0.174256 -0.014193  \n",
      "BILL_AMT3  0.179712  0.182326 -0.014076  \n",
      "BILL_AMT4  0.160433  0.177637 -0.010156  \n",
      "BILL_AMT5  0.141574  0.164184 -0.006760  \n",
      "BILL_AMT6  0.307729  0.115494 -0.005372  \n",
      "PAY_AMT1   0.148459  0.185735 -0.072929  \n",
      "PAY_AMT2   0.180908  0.157634 -0.058579  \n",
      "PAY_AMT3   0.159214  0.162740 -0.056250  \n",
      "PAY_AMT4   0.151830  0.157834 -0.056827  \n",
      "PAY_AMT5   1.000000  0.154896 -0.055124  \n",
      "PAY_AMT6   0.154896  1.000000 -0.053183  \n",
      "DEFAULT   -0.055124 -0.053183  1.000000  \n",
      "\n",
      "[24 rows x 24 columns]\n"
     ]
    }
   ],
   "source": [
    "corrMat = credit.corr()\n",
    "print(corrMat)"
   ]
  },
  {
   "cell_type": "code",
   "execution_count": 1,
   "metadata": {},
   "outputs": [],
   "source": [
    "## feature with high positive correlation to default: pay_0, education, pay_2, pay_3.\n",
    "## The more recent payment status is more indicative of default behavior\n",
    "\n",
    "## feature with high negative correlation to default: lIMIT_BAL, PAY_AMT1-6, SEX\n",
    "## more recent payment status correlates with default behavior more strongly\n"
   ]
  },
  {
   "cell_type": "code",
   "execution_count": null,
   "metadata": {},
   "outputs": [],
   "source": [
    "## Covariance matrix"
   ]
  },
  {
   "cell_type": "code",
   "execution_count": 27,
   "metadata": {},
   "outputs": [
    {
     "name": "stdout",
     "output_type": "stream",
     "text": [
      "              LIMIT_BAL          SEX     EDUCATION     MARRIAGE  \\\n",
      "LIMIT_BAL  1.683446e+10  1571.050630 -22474.028945 -7323.669658   \n",
      "SEX        1.571051e+03     0.239247      0.005502    -0.008014   \n",
      "EDUCATION -2.247403e+04     0.005502      0.624651    -0.059184   \n",
      "MARRIAGE  -7.323670e+03    -0.008014     -0.059184     0.272452   \n",
      "AGE_BIN    1.691573e+05    -0.401878      1.336860    -2.036834   \n",
      "PAY_0     -3.954593e+04    -0.031685      0.093584     0.011683   \n",
      "PAY_2     -4.603765e+04    -0.041442      0.115025     0.015122   \n",
      "PAY_3     -4.443225e+04    -0.038694      0.107861     0.020421   \n",
      "PAY_4     -4.057181e+04    -0.034411      0.100528     0.020213   \n",
      "PAY_5     -3.667056e+04    -0.030521      0.087340     0.021074   \n",
      "PAY_6     -3.509308e+04    -0.024754      0.074816     0.020616   \n",
      "BILL_AMT1  2.727020e+09 -1211.694332   1372.377644  -902.154685   \n",
      "BILL_AMT2  2.570130e+09 -1085.595467   1054.657595  -802.517866   \n",
      "BILL_AMT3  2.548533e+09  -833.207432    712.664124  -901.679085   \n",
      "BILL_AMT4  2.453926e+09  -688.489572    -22.948827  -783.881599   \n",
      "BILL_AMT5  2.331481e+09  -505.694333   -363.577664  -805.840875   \n",
      "BILL_AMT6  2.243837e+09  -487.430160   -428.274232  -659.223347   \n",
      "PAY_AMT1   4.195711e+08    -1.964266   -490.330155   -51.691615   \n",
      "PAY_AMT2   5.333504e+08   -15.675500   -547.005021   -97.327974   \n",
      "PAY_AMT3   4.801180e+08   -74.034812   -555.834305   -32.546082   \n",
      "PAY_AMT4   4.131202e+08   -17.080110   -473.206951  -103.518204   \n",
      "PAY_AMT5   4.305657e+08   -12.458809   -487.335947    -9.607709   \n",
      "PAY_AMT6   5.065153e+08   -24.051885   -522.673379   -61.623271   \n",
      "DEFAULT   -8.267552e+03    -0.008113      0.009187    -0.005273   \n",
      "\n",
      "                 AGE_BIN         PAY_0         PAY_2         PAY_3  \\\n",
      "LIMIT_BAL  169157.295492 -39545.930009 -46037.648360 -44432.253315   \n",
      "SEX            -0.401878     -0.031685     -0.041442     -0.038694   \n",
      "EDUCATION       1.336860      0.093584      0.115025      0.107861   \n",
      "MARRIAGE       -2.036834      0.011683      0.015122      0.020421   \n",
      "AGE_BIN        94.842617     -0.403374     -0.537091     -0.556974   \n",
      "PAY_0          -0.403374      1.262930      0.904330      0.772384   \n",
      "PAY_2          -0.537091      0.904330      1.433254      1.098371   \n",
      "PAY_3          -0.556974      0.772384      1.098371      1.432492   \n",
      "PAY_4          -0.516313      0.707972      0.926680      1.087761   \n",
      "PAY_5          -0.549307      0.648743      0.844886      0.931455   \n",
      "PAY_6          -0.498641      0.613292      0.792320      0.870815   \n",
      "BILL_AMT1   37705.163034  15480.304170  20706.614217  18373.210469   \n",
      "BILL_AMT2   35013.233715  15185.916919  20045.829482  20214.071495   \n",
      "BILL_AMT3   33598.524005  14011.556537  18609.510991  18882.491544   \n",
      "BILL_AMT4   29821.705442  12950.248389  17116.298983  17494.100555   \n",
      "BILL_AMT5   26495.455020  12341.668685  16110.952468  16382.947539   \n",
      "BILL_AMT6   24527.787850  11844.759724  15642.875812  15847.089648   \n",
      "PAY_AMT1     3741.476421  -1475.495089  -1600.240756     25.668468   \n",
      "PAY_AMT2     4665.718126  -1815.138407  -1627.192336  -1841.952825   \n",
      "PAY_AMT3     5012.501265  -1396.168258  -1178.331282  -1123.428782   \n",
      "PAY_AMT4     3223.992617  -1126.847945   -878.843879   -863.762183   \n",
      "PAY_AMT5     2882.102664   -999.107730   -678.468530   -655.796002   \n",
      "PAY_AMT6     3523.818929  -1172.193614   -776.835035   -763.026041   \n",
      "DEFAULT         0.059507      0.151499      0.130960      0.116867   \n",
      "\n",
      "                  PAY_4         PAY_5     ...          BILL_AMT4  \\\n",
      "LIMIT_BAL -40571.811859 -36670.562325     ...       2.453926e+09   \n",
      "SEX           -0.034411     -0.030521     ...      -6.884896e+02   \n",
      "EDUCATION      0.100528      0.087340     ...      -2.294883e+01   \n",
      "MARRIAGE       0.020213      0.021074     ...      -7.838816e+02   \n",
      "AGE_BIN       -0.516313     -0.549307     ...       2.982171e+04   \n",
      "PAY_0          0.707972      0.648743     ...       1.295025e+04   \n",
      "PAY_2          0.926680      0.844886     ...       1.711630e+04   \n",
      "PAY_3          1.087761      0.931455     ...       1.749410e+04   \n",
      "PAY_4          1.366885      1.086161     ...       1.849642e+04   \n",
      "PAY_5          1.086161      1.284114     ...       1.982293e+04   \n",
      "PAY_6          0.963263      1.064545     ...       1.970555e+04   \n",
      "BILL_AMT1  17460.198259  17246.377531     ...       4.075286e+09   \n",
      "BILL_AMT2  18790.627741  18301.285286     ...       4.086508e+09   \n",
      "BILL_AMT3  19862.999426  19122.663330     ...       4.122238e+09   \n",
      "BILL_AMT4  18496.423186  19822.925512     ...       4.138716e+09   \n",
      "BILL_AMT5  17265.551898  18586.590324     ...       3.677105e+09   \n",
      "BILL_AMT6  16651.586314  17715.690075     ...       3.451762e+09   \n",
      "PAY_AMT1    -181.295613   -114.281714     ...       2.482888e+08   \n",
      "PAY_AMT2     -52.358166    -83.324487     ...       3.076686e+08   \n",
      "PAY_AMT3   -1425.205189    180.812142     ...       3.398374e+08   \n",
      "PAY_AMT4    -796.035739  -1034.961970     ...       1.312133e+08   \n",
      "PAY_AMT5    -599.991629   -577.161017     ...       1.576892e+08   \n",
      "PAY_AMT6    -552.137338   -463.892613     ...       2.031590e+08   \n",
      "DEFAULT        0.105115      0.096020     ...      -2.711999e+02   \n",
      "\n",
      "              BILL_AMT5     BILL_AMT6      PAY_AMT1      PAY_AMT2  \\\n",
      "LIMIT_BAL  2.331481e+09  2.243837e+09  4.195711e+08  5.333504e+08   \n",
      "SEX       -5.056943e+02 -4.874302e+02 -1.964266e+00 -1.567550e+01   \n",
      "EDUCATION -3.635777e+02 -4.282742e+02 -4.903302e+02 -5.470050e+02   \n",
      "MARRIAGE  -8.058409e+02 -6.592233e+02 -5.169161e+01 -9.732797e+01   \n",
      "AGE_BIN    2.649546e+04  2.452779e+04  3.741476e+03  4.665718e+03   \n",
      "PAY_0      1.234167e+04  1.184476e+04 -1.475495e+03 -1.815138e+03   \n",
      "PAY_2      1.611095e+04  1.564288e+04 -1.600241e+03 -1.627192e+03   \n",
      "PAY_3      1.638295e+04  1.584709e+04  2.566847e+01 -1.841953e+03   \n",
      "PAY_4      1.726555e+04  1.665159e+04 -1.812956e+02 -5.235817e+01   \n",
      "PAY_5      1.858659e+04  1.771569e+04 -1.142817e+02 -8.332449e+01   \n",
      "PAY_6      2.033812e+04  1.952488e+04 -2.850067e+01 -1.383995e+02   \n",
      "BILL_AMT1  3.714795e+09  3.519876e+09  1.710894e+08  1.685692e+08   \n",
      "BILL_AMT2  3.720401e+09  3.524868e+09  3.305146e+08  1.653859e+08   \n",
      "BILL_AMT3  3.726780e+09  3.524247e+09  2.806565e+08  5.064226e+08   \n",
      "BILL_AMT4  3.677105e+09  3.451762e+09  2.482888e+08  3.076686e+08   \n",
      "BILL_AMT5  3.696294e+09  3.425914e+09  2.185501e+08  2.538936e+08   \n",
      "BILL_AMT6  3.425914e+09  3.546692e+09  1.972478e+08  2.369244e+08   \n",
      "PAY_AMT1   2.185501e+08  1.972478e+08  2.743423e+08  1.089849e+08   \n",
      "PAY_AMT2   2.538936e+08  2.369244e+08  1.089849e+08  5.308817e+08   \n",
      "PAY_AMT3   2.700805e+08  2.451233e+08  7.354626e+07  9.929841e+07   \n",
      "PAY_AMT4   2.791830e+08  2.334670e+08  5.178189e+07  6.501168e+07   \n",
      "PAY_AMT5   1.315051e+08  2.799982e+08  3.756893e+07  6.368414e+07   \n",
      "PAY_AMT6   1.774537e+08  1.222761e+08  5.469033e+07  6.456816e+07   \n",
      "DEFAULT   -1.705974e+02 -1.327963e+02 -5.013746e+02 -5.602107e+02   \n",
      "\n",
      "               PAY_AMT3      PAY_AMT4      PAY_AMT5      PAY_AMT6      DEFAULT  \n",
      "LIMIT_BAL  4.801180e+08  4.131202e+08  4.305657e+08  5.065153e+08 -8267.551759  \n",
      "SEX       -7.403481e+01 -1.708011e+01 -1.245881e+01 -2.405188e+01    -0.008113  \n",
      "EDUCATION -5.558343e+02 -4.732070e+02 -4.873359e+02 -5.226734e+02     0.009187  \n",
      "MARRIAGE  -3.254608e+01 -1.035182e+02 -9.607709e+00 -6.162327e+01    -0.005273  \n",
      "AGE_BIN    5.012501e+03  3.223993e+03  2.882103e+03  3.523819e+03     0.059507  \n",
      "PAY_0     -1.396168e+03 -1.126848e+03 -9.991077e+02 -1.172194e+03     0.151499  \n",
      "PAY_2     -1.178331e+03 -8.788439e+02 -6.784685e+02 -7.768350e+02     0.130960  \n",
      "PAY_3     -1.123429e+03 -8.637622e+02 -6.557960e+02 -7.630260e+02     0.116867  \n",
      "PAY_4     -1.425205e+03 -7.960357e+02 -5.999916e+02 -5.521373e+02     0.105115  \n",
      "PAY_5      1.808121e+02 -1.034962e+03 -5.771610e+02 -4.638926e+02     0.096020  \n",
      "PAY_6      1.181210e+02  3.426237e+02 -8.158327e+02 -5.172163e+02     0.089194  \n",
      "BILL_AMT1  2.034048e+08  1.826164e+08  1.879091e+08  2.347681e+08  -600.394108  \n",
      "BILL_AMT2  1.888731e+08  1.643518e+08  1.717652e+08  2.204845e+08  -419.289137  \n",
      "BILL_AMT3  1.587478e+08  1.558003e+08  1.904126e+08  2.247817e+08  -405.153680  \n",
      "BILL_AMT4  3.398374e+08  1.312133e+08  1.576892e+08  2.031590e+08  -271.199885  \n",
      "BILL_AMT5  2.700805e+08  2.791830e+08  1.315051e+08  1.774537e+08  -170.597447  \n",
      "BILL_AMT6  2.451233e+08  2.334670e+08  2.799982e+08  1.222761e+08  -132.796294  \n",
      "PAY_AMT1   7.354626e+07  5.178189e+07  3.756893e+07  5.469033e+07  -501.374552  \n",
      "PAY_AMT2   9.929841e+07  6.501168e+07  6.368414e+07  6.456816e+07  -560.210740  \n",
      "PAY_AMT3   3.100051e+08  5.966970e+07  4.282921e+07  5.093879e+07  -411.076284  \n",
      "PAY_AMT4   5.966970e+07  2.454286e+08  3.634098e+07  4.395747e+07  -369.515887  \n",
      "PAY_AMT5   4.282921e+07  3.634098e+07  2.334266e+08  4.207110e+07  -349.562530  \n",
      "PAY_AMT6   5.093879e+07  4.395747e+07  4.207110e+07  3.160383e+08  -392.426415  \n",
      "DEFAULT   -4.110763e+02 -3.695159e+02 -3.495625e+02 -3.924264e+02     0.172276  \n",
      "\n",
      "[24 rows x 24 columns]\n"
     ]
    }
   ],
   "source": [
    "covMat = credit.cov()\n",
    "print(covMat)"
   ]
  },
  {
   "cell_type": "code",
   "execution_count": null,
   "metadata": {},
   "outputs": [],
   "source": []
  }
 ],
 "metadata": {
  "kernelspec": {
   "display_name": "Python 3",
   "language": "python",
   "name": "python3"
  },
  "language_info": {
   "codemirror_mode": {
    "name": "ipython",
    "version": 3
   },
   "file_extension": ".py",
   "mimetype": "text/x-python",
   "name": "python",
   "nbconvert_exporter": "python",
   "pygments_lexer": "ipython3",
   "version": "3.6.5"
  }
 },
 "nbformat": 4,
 "nbformat_minor": 2
}
